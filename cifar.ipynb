{
 "cells": [
  {
   "cell_type": "code",
   "execution_count": null,
   "metadata": {},
   "outputs": [],
   "source": [
    "!wget -q https://github.com/DM-GY-9103-2024F-H/9103-utils/raw/main/src/data_utils.py\n",
    "!wget -q https://github.com/DM-GY-9103-2024F-H/9103-utils/raw/main/src/image_utils.py\n",
    "\n",
    "!wget -qO- https://www.cs.toronto.edu/~kriz/cifar-10-python.tar.gz | tar xz"
   ]
  },
  {
   "cell_type": "code",
   "execution_count": 48,
   "metadata": {},
   "outputs": [],
   "source": [
    "import pickle\n",
    "from image_utils import make_image\n",
    "import numpy as np\n",
    "from PIL import Image, ImageEnhance, ImageDraw"
   ]
  },
  {
   "cell_type": "code",
   "execution_count": null,
   "metadata": {},
   "outputs": [],
   "source": [
    "def unpickle(file):\n",
    "  with open(file, 'rb') as fo:\n",
    "    dict = pickle.load(fo, encoding='bytes')\n",
    "  return dict\n",
    "\n",
    "def reshape_cifar_pixels(pxs):\n",
    "  return list(zip(pxs[:1024], pxs[1024:2048], pxs[2048:]))"
   ]
  },
  {
   "cell_type": "code",
   "execution_count": null,
   "metadata": {},
   "outputs": [],
   "source": [
    "res = unpickle(\"./cifar-10-batches-py/data_batch_1\")"
   ]
  },
  {
   "cell_type": "code",
   "execution_count": null,
   "metadata": {},
   "outputs": [],
   "source": [
    "for i in range(10):\n",
    "  display(make_image(reshape_cifar_pixels(res[b'data'][i])))"
   ]
  },
  {
   "cell_type": "code",
   "execution_count": null,
   "metadata": {},
   "outputs": [
    {
     "data": {
      "image/jpeg": "[encoded data removed]",
      "image/png": "[encoded data removed]",
      "text/plain": [
       "<PIL.Image.Image image mode=RGB size=32x32>"
      ]
     },
     "metadata": {},
     "output_type": "display_data"
    }
   ],
   "source": [
    "\n",
    "\n",
    "# Step 1: Extract all images from the dataset\n",
    "all_images = res[b'data']  # Shape: (10000, 3072)\n",
    "\n",
    "# Step 2: Reshape into (10000, 32, 32, 3) for R, G, B\n",
    "# CIFAR-10 stores 1024 R, 1024 G, 1024 B values per image\n",
    "reshaped_images = all_images.reshape(-1, 3, 1024).transpose(0, 2, 1).reshape(-1, 32, 32, 3)\n",
    "\n",
    "\n",
    "image_rgb = reshaped_images[100] #put in the index of image desired\n",
    "img = Image.fromarray(image_rgb.astype('uint8'))  # Convert to an image\n",
    "img.show()"
   ]
  },
  {
   "cell_type": "code",
   "execution_count": 19,
   "metadata": {},
   "outputs": [
    {
     "name": "stdout",
     "output_type": "stream",
     "text": [
      "First 10 pixels (R, G, B): [[59, 62, 63], [43, 46, 45], [50, 48, 43], [68, 54, 42], [98, 73, 52], [119, 91, 63], [139, 107, 75], [145, 110, 80], [149, 117, 89], [149, 120, 93]]\n",
      "Total number of pixels: 1024\n"
     ]
    }
   ],
   "source": [
    "\n",
    "pixel_values = image_rgb.reshape(-1, 3).tolist() #just make it into list\n",
    "\n",
    "print(\"First 10 pixels (R, G, B):\", pixel_values[:10]) #printing pixel values (first 10 pixels)\n",
    "print(\"Total number of pixels:\", len(pixel_values)) "
   ]
  },
  {
   "cell_type": "markdown",
   "metadata": {},
   "source": [
    "Resize the image to a larger image for visualization (original size is 32 x 32)(pixelated)"
   ]
  },
  {
   "cell_type": "code",
   "execution_count": 17,
   "metadata": {},
   "outputs": [
    {
     "data": {
      "image/jpeg": "[encoded data removed]",
      "image/png": "[encoded data removed]",
      "text/plain": [
       "<PIL.Image.Image image mode=RGB size=256x256>"
      ]
     },
     "metadata": {},
     "output_type": "display_data"
    }
   ],
   "source": [
    "image_rgb = reshaped_images[0]\n",
    "\n",
    "\n",
    "img = Image.fromarray(image_rgb.astype('uint8'))\n",
    "\n",
    "# Step 3: Resize the image (e.g., scale to 256x256 for better visibility)\n",
    "larger_img = img.resize((256, 256), Image.NEAREST)  # Use NEAREST to keep pixel style\n",
    "\n",
    "# Step 4: Display the resized image\n",
    "larger_img.show()"
   ]
  },
  {
   "cell_type": "markdown",
   "metadata": {},
   "source": [
    "Saturated the Image below"
   ]
  },
  {
   "cell_type": "code",
   "execution_count": 30,
   "metadata": {},
   "outputs": [
    {
     "data": {
      "image/jpeg": "[encoded data removed]",
      "image/png": "[encoded data removed]",
      "text/plain": [
       "<PIL.Image.Image image mode=RGB size=32x32>"
      ]
     },
     "metadata": {},
     "output_type": "display_data"
    },
    {
     "data": {
      "image/jpeg": "[encoded data removed]",
      "image/png": "[encoded data removed]",
      "text/plain": [
       "<PIL.Image.Image image mode=RGB size=32x32>"
      ]
     },
     "metadata": {},
     "output_type": "display_data"
    }
   ],
   "source": [
    "image_rgb = reshaped_images[0]\n",
    "img = Image.fromarray(image_rgb.astype('uint8'))  \n",
    "img.show()\n",
    "\n",
    "\n",
    "\n",
    "image_rgb = reshaped_images[0]\n",
    "pixels = np.array(image_rgb, dtype=np.float32)  # using float becasue it was overflow before\n",
    "sat_pixels = []\n",
    "\n",
    "\n",
    "saturation_factor = 22.0 #22--> 2200%\n",
    "for r, g, b in pixels.reshape(-1, 3): \n",
    "    avg = (r + g + b) / 3 #i beleive avg is grayscale??\n",
    "    \n",
    "    new_r = avg + (r - avg) * saturation_factor\n",
    "    new_g = avg + (g - avg) * saturation_factor\n",
    "    new_b = avg + (b - avg) * saturation_factor\n",
    "    \n",
    "\n",
    "    sat_pixels.append((min(255, max(0, new_r)), \n",
    "                       min(255, max(0, new_g)), \n",
    "                       min(255, max(0, new_b))))\n",
    "    # making sure in the valid range (0–255)\n",
    "\n",
    "sat_pixels = np.array(sat_pixels).reshape(32, 32, 3).astype('uint8') \n",
    "# i need to reshape it back and converit it to the Unit 8 thing, i serached online and it says i have to do this. \n",
    "\n",
    "\n",
    "#saturated_img = Image.fromarray(sat_pixels) # convert back to PIL, but #this code out the img still works, bet it wrote the memory\n",
    "saturated_img.show()\n"
   ]
  },
  {
   "cell_type": "markdown",
   "metadata": {},
   "source": [
    "Im trying to train the model --> there are two models, 1 encoder, 2 decoder, for:\n",
    "\n",
    "Analyzes an image's red pixel intensity:\n",
    "For each input image (e.g., from the CIFAR-10 dataset), the system calculates how \"red\" the image is by examining its red pixel values.\n",
    "Uses the red pixel intensity to reconstruct a heart shape:\n",
    "The red pixel intensity determines the size or intensity of the reconstructed heart shape.\n",
    "Very red image --> Larger or more vibrant heart.\n",
    "Less red image --> Smaller or fainter heart.\n",
    "\n",
    "This involves:\n",
    "\n",
    "Encoder: Encodes an input image by extracting relevant features (e.g., the red pixel intensity).\n",
    "Decoder: Takes the encoded features (e.g., red intensity) and outputs a new image—a heart shape reconstructed based on the red pixel data."
   ]
  },
  {
   "cell_type": "code",
   "execution_count": 58,
   "metadata": {},
   "outputs": [],
   "source": [
    "import torch\n",
    "from torch.utils.data import DataLoader, Dataset\n",
    "from torchvision import datasets, transforms\n",
    "from torchvision.transforms import ToTensor\n",
    "import matplotlib.pyplot as plt\n"
   ]
  },
  {
   "cell_type": "code",
   "execution_count": null,
   "metadata": {},
   "outputs": [],
   "source": [
    "# Function to calculate red intensity\n",
    "def calculate_red_intensity(image):\n",
    "    # Ensure the input is a 3D tensor (C, H, W)\n",
    "    if len(image.shape) != 3:\n",
    "        raise ValueError(f\"Expected 3D tensor (C, H, W), but got {image.shape}\") #unfamiliar with raise, practicing\n",
    "\n",
    "    red_channel = image[0, :, :]\n",
    "    \n",
    "    # Calculate total and normalized red intensity\n",
    "    total_red = red_channel.sum().item()\n",
    "    max_red = red_channel.numel() * 255\n",
    "    red_intensity = total_red / max_red\n",
    "    return red_intensity\n",
    "\n",
    "\n",
    "\n",
    "def create_heart_image(intensity, size=(32, 32)):\n",
    "    heart_size = int(intensity * size[0] / 2)\n",
    "    heart_img = Image.new(\"RGB\", size, \"black\")\n",
    "    draw = ImageDraw.Draw(heart_img)\n",
    "    draw.polygon([\n",
    "        (size[0] // 2, size[1] // 8),\n",
    "        (size[0] // 8, 7 * size[1] // 8),\n",
    "        (size[0] // 2, size[1] - size[1] // 8),\n",
    "        (7 * size[0] // 8, 7 * size[1] // 8),\n",
    "    ], fill=(int(255 * intensity), 0, 0))\n",
    "    return ToTensor()(heart_img)\n",
    "\n",
    "#drawinf heart shaped based on the intensity of the red colors\n"
   ]
  },
  {
   "cell_type": "code",
   "execution_count": 60,
   "metadata": {},
   "outputs": [
    {
     "name": "stdout",
     "output_type": "stream",
     "text": [
      "Files already downloaded and verified\n"
     ]
    }
   ],
   "source": [
    "\n",
    "# Convert images to tensors and make sure size consistency\n",
    "transform = transforms.Compose([\n",
    "    transforms.ToTensor(),\n",
    "    transforms.Resize((32, 32)) \n",
    "])\n",
    "\n",
    "\n",
    "cifar10 = datasets.CIFAR10(root='./data', train=True, download=True, transform=transform)\n",
    "\n",
    "\n",
    "\n",
    "# Custom Dataset for Spy Image (base and secret pairs)\n",
    "class SpyImageDataset(Dataset):\n",
    "    def __init__(self, dataset):\n",
    "        self.dataset = dataset\n",
    "\n",
    "    def __len__(self):\n",
    "        return len(self.dataset)\n",
    "\n",
    "    def __getitem__(self, idx):\n",
    "        base_image, _ = self.dataset[idx]\n",
    "        secret_image, _ = self.dataset[(idx + 1) % len(self.dataset)]  # Use the next image as the secret\n",
    "        return base_image, secret_image\n",
    "\n",
    "# Create train and test datasets\n",
    "spy_dataset = SpyImageDataset(cifar10)\n",
    "train_loader = DataLoader(spy_dataset, batch_size=32, shuffle=True)\n",
    "\n"
   ]
  },
  {
   "cell_type": "code",
   "execution_count": 53,
   "metadata": {},
   "outputs": [],
   "source": [
    "import torch.nn as nn\n",
    "\n",
    "# Encoder: Embed secret image into the base image\n",
    "class SpyEncoder(nn.Module):\n",
    "    def __init__(self):\n",
    "        super(SpyEncoder, self).__init__()\n",
    "        self.conv1 = nn.Conv2d(6, 64, kernel_size=3, padding=1)\n",
    "        self.conv2 = nn.Conv2d(64, 3, kernel_size=3, padding=1)\n",
    "\n",
    "    def forward(self, base, secret):\n",
    "        x = torch.cat([base, secret], dim=1)  # Concatenate along channel axis\n",
    "        x = torch.relu(self.conv1(x))\n",
    "        encoded = torch.sigmoid(self.conv2(x))  # Output encoded image\n",
    "        return encoded\n",
    "\n",
    "# Decoder: Extract secret image from the encoded image\n",
    "class SpyDecoder(nn.Module):\n",
    "    def __init__(self):\n",
    "        super(SpyDecoder, self).__init__()\n",
    "\n",
    "    def forward(self, encoded_images):\n",
    "        # Ensure the input is a 4D tensor (B, C, H, W)\n",
    "        if len(encoded_images.shape) != 4:\n",
    "            raise ValueError(f\"Expected 4D tensor (B, C, H, W), but got {encoded_images.shape}\")\n",
    "\n",
    "        # Process each image in the batch\n",
    "        heart_images = []\n",
    "        for image in encoded_images:  # Loop through batch\n",
    "            red_intensity = calculate_red_intensity(image)  # Calculate red intensity\n",
    "            heart_image = create_heart_image(red_intensity)  # Create heart image\n",
    "            heart_images.append(heart_image)\n",
    "        \n",
    "        # Stack the heart images to match batch format\n",
    "        return torch.stack(heart_images)\n",
    "\n",
    "# Initialize models\n",
    "encoder = SpyEncoder()\n",
    "decoder = SpyDecoder()\n"
   ]
  },
  {
   "cell_type": "code",
   "execution_count": 54,
   "metadata": {},
   "outputs": [],
   "source": [
    "# Define optimizer and loss function\n",
    "optimizer = torch.optim.Adam(list(encoder.parameters()) + list(decoder.parameters()))\n",
    "loss_fn = nn.MSELoss()\n"
   ]
  },
  {
   "cell_type": "code",
   "execution_count": 55,
   "metadata": {},
   "outputs": [
    {
     "ename": "NameError",
     "evalue": "name 'ToTensor' is not defined",
     "output_type": "error",
     "traceback": [
      "\u001b[0;31m---------------------------------------------------------------------------\u001b[0m",
      "\u001b[0;31mNameError\u001b[0m                                 Traceback (most recent call last)",
      "Cell \u001b[0;32mIn[55], line 8\u001b[0m\n\u001b[1;32m      6\u001b[0m \u001b[38;5;66;03m# Forward pass: encode and decode\u001b[39;00m\n\u001b[1;32m      7\u001b[0m encoded_image \u001b[38;5;241m=\u001b[39m encoder(base_image, secret_image)\n\u001b[0;32m----> 8\u001b[0m decoded_secret \u001b[38;5;241m=\u001b[39m \u001b[43mdecoder\u001b[49m\u001b[43m(\u001b[49m\u001b[43mencoded_image\u001b[49m\u001b[43m)\u001b[49m\n\u001b[1;32m     10\u001b[0m \u001b[38;5;66;03m# Compute loss\u001b[39;00m\n\u001b[1;32m     11\u001b[0m loss \u001b[38;5;241m=\u001b[39m loss_fn(decoded_secret, secret_image)\n",
      "File \u001b[0;32m~/.local/lib/python3.10/site-packages/torch/nn/modules/module.py:1736\u001b[0m, in \u001b[0;36mModule._wrapped_call_impl\u001b[0;34m(self, *args, **kwargs)\u001b[0m\n\u001b[1;32m   1734\u001b[0m     \u001b[38;5;28;01mreturn\u001b[39;00m \u001b[38;5;28mself\u001b[39m\u001b[38;5;241m.\u001b[39m_compiled_call_impl(\u001b[38;5;241m*\u001b[39margs, \u001b[38;5;241m*\u001b[39m\u001b[38;5;241m*\u001b[39mkwargs)  \u001b[38;5;66;03m# type: ignore[misc]\u001b[39;00m\n\u001b[1;32m   1735\u001b[0m \u001b[38;5;28;01melse\u001b[39;00m:\n\u001b[0;32m-> 1736\u001b[0m     \u001b[38;5;28;01mreturn\u001b[39;00m \u001b[38;5;28;43mself\u001b[39;49m\u001b[38;5;241;43m.\u001b[39;49m\u001b[43m_call_impl\u001b[49m\u001b[43m(\u001b[49m\u001b[38;5;241;43m*\u001b[39;49m\u001b[43margs\u001b[49m\u001b[43m,\u001b[49m\u001b[43m \u001b[49m\u001b[38;5;241;43m*\u001b[39;49m\u001b[38;5;241;43m*\u001b[39;49m\u001b[43mkwargs\u001b[49m\u001b[43m)\u001b[49m\n",
      "File \u001b[0;32m~/.local/lib/python3.10/site-packages/torch/nn/modules/module.py:1747\u001b[0m, in \u001b[0;36mModule._call_impl\u001b[0;34m(self, *args, **kwargs)\u001b[0m\n\u001b[1;32m   1742\u001b[0m \u001b[38;5;66;03m# If we don't have any hooks, we want to skip the rest of the logic in\u001b[39;00m\n\u001b[1;32m   1743\u001b[0m \u001b[38;5;66;03m# this function, and just call forward.\u001b[39;00m\n\u001b[1;32m   1744\u001b[0m \u001b[38;5;28;01mif\u001b[39;00m \u001b[38;5;129;01mnot\u001b[39;00m (\u001b[38;5;28mself\u001b[39m\u001b[38;5;241m.\u001b[39m_backward_hooks \u001b[38;5;129;01mor\u001b[39;00m \u001b[38;5;28mself\u001b[39m\u001b[38;5;241m.\u001b[39m_backward_pre_hooks \u001b[38;5;129;01mor\u001b[39;00m \u001b[38;5;28mself\u001b[39m\u001b[38;5;241m.\u001b[39m_forward_hooks \u001b[38;5;129;01mor\u001b[39;00m \u001b[38;5;28mself\u001b[39m\u001b[38;5;241m.\u001b[39m_forward_pre_hooks\n\u001b[1;32m   1745\u001b[0m         \u001b[38;5;129;01mor\u001b[39;00m _global_backward_pre_hooks \u001b[38;5;129;01mor\u001b[39;00m _global_backward_hooks\n\u001b[1;32m   1746\u001b[0m         \u001b[38;5;129;01mor\u001b[39;00m _global_forward_hooks \u001b[38;5;129;01mor\u001b[39;00m _global_forward_pre_hooks):\n\u001b[0;32m-> 1747\u001b[0m     \u001b[38;5;28;01mreturn\u001b[39;00m \u001b[43mforward_call\u001b[49m\u001b[43m(\u001b[49m\u001b[38;5;241;43m*\u001b[39;49m\u001b[43margs\u001b[49m\u001b[43m,\u001b[49m\u001b[43m \u001b[49m\u001b[38;5;241;43m*\u001b[39;49m\u001b[38;5;241;43m*\u001b[39;49m\u001b[43mkwargs\u001b[49m\u001b[43m)\u001b[49m\n\u001b[1;32m   1749\u001b[0m result \u001b[38;5;241m=\u001b[39m \u001b[38;5;28;01mNone\u001b[39;00m\n\u001b[1;32m   1750\u001b[0m called_always_called_hooks \u001b[38;5;241m=\u001b[39m \u001b[38;5;28mset\u001b[39m()\n",
      "Cell \u001b[0;32mIn[53], line 30\u001b[0m, in \u001b[0;36mSpyDecoder.forward\u001b[0;34m(self, encoded_images)\u001b[0m\n\u001b[1;32m     28\u001b[0m \u001b[38;5;28;01mfor\u001b[39;00m image \u001b[38;5;129;01min\u001b[39;00m encoded_images:  \u001b[38;5;66;03m# Loop through batch\u001b[39;00m\n\u001b[1;32m     29\u001b[0m     red_intensity \u001b[38;5;241m=\u001b[39m calculate_red_intensity(image)  \u001b[38;5;66;03m# Calculate red intensity\u001b[39;00m\n\u001b[0;32m---> 30\u001b[0m     heart_image \u001b[38;5;241m=\u001b[39m \u001b[43mcreate_heart_image\u001b[49m\u001b[43m(\u001b[49m\u001b[43mred_intensity\u001b[49m\u001b[43m)\u001b[49m  \u001b[38;5;66;03m# Create heart image\u001b[39;00m\n\u001b[1;32m     31\u001b[0m     heart_images\u001b[38;5;241m.\u001b[39mappend(heart_image)\n\u001b[1;32m     33\u001b[0m \u001b[38;5;66;03m# Stack the heart images to match batch format\u001b[39;00m\n",
      "Cell \u001b[0;32mIn[50], line 28\u001b[0m, in \u001b[0;36mcreate_heart_image\u001b[0;34m(intensity, size)\u001b[0m\n\u001b[1;32m     21\u001b[0m draw \u001b[38;5;241m=\u001b[39m ImageDraw\u001b[38;5;241m.\u001b[39mDraw(heart_img)\n\u001b[1;32m     22\u001b[0m draw\u001b[38;5;241m.\u001b[39mpolygon([\n\u001b[1;32m     23\u001b[0m     (size[\u001b[38;5;241m0\u001b[39m] \u001b[38;5;241m/\u001b[39m\u001b[38;5;241m/\u001b[39m \u001b[38;5;241m2\u001b[39m, size[\u001b[38;5;241m1\u001b[39m] \u001b[38;5;241m/\u001b[39m\u001b[38;5;241m/\u001b[39m \u001b[38;5;241m8\u001b[39m),\n\u001b[1;32m     24\u001b[0m     (size[\u001b[38;5;241m0\u001b[39m] \u001b[38;5;241m/\u001b[39m\u001b[38;5;241m/\u001b[39m \u001b[38;5;241m8\u001b[39m, \u001b[38;5;241m7\u001b[39m \u001b[38;5;241m*\u001b[39m size[\u001b[38;5;241m1\u001b[39m] \u001b[38;5;241m/\u001b[39m\u001b[38;5;241m/\u001b[39m \u001b[38;5;241m8\u001b[39m),\n\u001b[1;32m     25\u001b[0m     (size[\u001b[38;5;241m0\u001b[39m] \u001b[38;5;241m/\u001b[39m\u001b[38;5;241m/\u001b[39m \u001b[38;5;241m2\u001b[39m, size[\u001b[38;5;241m1\u001b[39m] \u001b[38;5;241m-\u001b[39m size[\u001b[38;5;241m1\u001b[39m] \u001b[38;5;241m/\u001b[39m\u001b[38;5;241m/\u001b[39m \u001b[38;5;241m8\u001b[39m),\n\u001b[1;32m     26\u001b[0m     (\u001b[38;5;241m7\u001b[39m \u001b[38;5;241m*\u001b[39m size[\u001b[38;5;241m0\u001b[39m] \u001b[38;5;241m/\u001b[39m\u001b[38;5;241m/\u001b[39m \u001b[38;5;241m8\u001b[39m, \u001b[38;5;241m7\u001b[39m \u001b[38;5;241m*\u001b[39m size[\u001b[38;5;241m1\u001b[39m] \u001b[38;5;241m/\u001b[39m\u001b[38;5;241m/\u001b[39m \u001b[38;5;241m8\u001b[39m),\n\u001b[1;32m     27\u001b[0m ], fill\u001b[38;5;241m=\u001b[39m(\u001b[38;5;28mint\u001b[39m(\u001b[38;5;241m255\u001b[39m \u001b[38;5;241m*\u001b[39m intensity), \u001b[38;5;241m0\u001b[39m, \u001b[38;5;241m0\u001b[39m))\n\u001b[0;32m---> 28\u001b[0m \u001b[38;5;28;01mreturn\u001b[39;00m \u001b[43mToTensor\u001b[49m()(heart_img)\n",
      "\u001b[0;31mNameError\u001b[0m: name 'ToTensor' is not defined"
     ]
    }
   ],
   "source": [
    "epochs = 2  # Adjust as needed\n",
    "for epoch in range(epochs):\n",
    "    for base_image, secret_image in train_loader:\n",
    "        optimizer.zero_grad()\n",
    "        \n",
    "        # Forward pass: encode and decode\n",
    "        encoded_image = encoder(base_image, secret_image)\n",
    "        decoded_secret = decoder(encoded_image)\n",
    "        \n",
    "        # Compute loss\n",
    "        loss = loss_fn(decoded_secret, secret_image)\n",
    "        \n",
    "        # Backward pass and optimization\n",
    "        loss.backward()\n",
    "        optimizer.step()\n",
    "    \n",
    "    # Print loss every epoch\n",
    "    print(f\"Epoch [{epoch + 1}/{epochs}], Loss: {loss.item():.4f}\")"
   ]
  },
  {
   "cell_type": "code",
   "execution_count": null,
   "metadata": {},
   "outputs": [
    {
     "ename": "ValueError",
     "evalue": "Expected 4D tensor (B, C, H, W), but got torch.Size([3, 32, 32])",
     "output_type": "error",
     "traceback": [
      "\u001b[0;31m---------------------------------------------------------------------------\u001b[0m",
      "\u001b[0;31mValueError\u001b[0m                                Traceback (most recent call last)",
      "Cell \u001b[0;32mIn[57], line 12\u001b[0m\n\u001b[1;32m     10\u001b[0m decoder \u001b[38;5;241m=\u001b[39m SpyDecoder()\n\u001b[1;32m     11\u001b[0m \u001b[38;5;28;01mwith\u001b[39;00m torch\u001b[38;5;241m.\u001b[39mno_grad():\n\u001b[0;32m---> 12\u001b[0m     heart_image \u001b[38;5;241m=\u001b[39m \u001b[43mdecoder\u001b[49m\u001b[43m(\u001b[49m\u001b[43mencoded_image\u001b[49m\u001b[43m[\u001b[49m\u001b[38;5;241;43m0\u001b[39;49m\u001b[43m]\u001b[49m\u001b[43m)\u001b[49m  \u001b[38;5;66;03m# Pass encoded image to decoder\u001b[39;00m\n\u001b[1;32m     14\u001b[0m \u001b[38;5;66;03m# Visualize the results\u001b[39;00m\n\u001b[1;32m     15\u001b[0m \u001b[38;5;28;01mimport\u001b[39;00m \u001b[38;5;21;01mmatplotlib\u001b[39;00m\u001b[38;5;21;01m.\u001b[39;00m\u001b[38;5;21;01mpyplot\u001b[39;00m \u001b[38;5;28;01mas\u001b[39;00m \u001b[38;5;21;01mplt\u001b[39;00m\n",
      "File \u001b[0;32m~/.local/lib/python3.10/site-packages/torch/nn/modules/module.py:1736\u001b[0m, in \u001b[0;36mModule._wrapped_call_impl\u001b[0;34m(self, *args, **kwargs)\u001b[0m\n\u001b[1;32m   1734\u001b[0m     \u001b[38;5;28;01mreturn\u001b[39;00m \u001b[38;5;28mself\u001b[39m\u001b[38;5;241m.\u001b[39m_compiled_call_impl(\u001b[38;5;241m*\u001b[39margs, \u001b[38;5;241m*\u001b[39m\u001b[38;5;241m*\u001b[39mkwargs)  \u001b[38;5;66;03m# type: ignore[misc]\u001b[39;00m\n\u001b[1;32m   1735\u001b[0m \u001b[38;5;28;01melse\u001b[39;00m:\n\u001b[0;32m-> 1736\u001b[0m     \u001b[38;5;28;01mreturn\u001b[39;00m \u001b[38;5;28;43mself\u001b[39;49m\u001b[38;5;241;43m.\u001b[39;49m\u001b[43m_call_impl\u001b[49m\u001b[43m(\u001b[49m\u001b[38;5;241;43m*\u001b[39;49m\u001b[43margs\u001b[49m\u001b[43m,\u001b[49m\u001b[43m \u001b[49m\u001b[38;5;241;43m*\u001b[39;49m\u001b[38;5;241;43m*\u001b[39;49m\u001b[43mkwargs\u001b[49m\u001b[43m)\u001b[49m\n",
      "File \u001b[0;32m~/.local/lib/python3.10/site-packages/torch/nn/modules/module.py:1747\u001b[0m, in \u001b[0;36mModule._call_impl\u001b[0;34m(self, *args, **kwargs)\u001b[0m\n\u001b[1;32m   1742\u001b[0m \u001b[38;5;66;03m# If we don't have any hooks, we want to skip the rest of the logic in\u001b[39;00m\n\u001b[1;32m   1743\u001b[0m \u001b[38;5;66;03m# this function, and just call forward.\u001b[39;00m\n\u001b[1;32m   1744\u001b[0m \u001b[38;5;28;01mif\u001b[39;00m \u001b[38;5;129;01mnot\u001b[39;00m (\u001b[38;5;28mself\u001b[39m\u001b[38;5;241m.\u001b[39m_backward_hooks \u001b[38;5;129;01mor\u001b[39;00m \u001b[38;5;28mself\u001b[39m\u001b[38;5;241m.\u001b[39m_backward_pre_hooks \u001b[38;5;129;01mor\u001b[39;00m \u001b[38;5;28mself\u001b[39m\u001b[38;5;241m.\u001b[39m_forward_hooks \u001b[38;5;129;01mor\u001b[39;00m \u001b[38;5;28mself\u001b[39m\u001b[38;5;241m.\u001b[39m_forward_pre_hooks\n\u001b[1;32m   1745\u001b[0m         \u001b[38;5;129;01mor\u001b[39;00m _global_backward_pre_hooks \u001b[38;5;129;01mor\u001b[39;00m _global_backward_hooks\n\u001b[1;32m   1746\u001b[0m         \u001b[38;5;129;01mor\u001b[39;00m _global_forward_hooks \u001b[38;5;129;01mor\u001b[39;00m _global_forward_pre_hooks):\n\u001b[0;32m-> 1747\u001b[0m     \u001b[38;5;28;01mreturn\u001b[39;00m \u001b[43mforward_call\u001b[49m\u001b[43m(\u001b[49m\u001b[38;5;241;43m*\u001b[39;49m\u001b[43margs\u001b[49m\u001b[43m,\u001b[49m\u001b[43m \u001b[49m\u001b[38;5;241;43m*\u001b[39;49m\u001b[38;5;241;43m*\u001b[39;49m\u001b[43mkwargs\u001b[49m\u001b[43m)\u001b[49m\n\u001b[1;32m   1749\u001b[0m result \u001b[38;5;241m=\u001b[39m \u001b[38;5;28;01mNone\u001b[39;00m\n\u001b[1;32m   1750\u001b[0m called_always_called_hooks \u001b[38;5;241m=\u001b[39m \u001b[38;5;28mset\u001b[39m()\n",
      "Cell \u001b[0;32mIn[53], line 24\u001b[0m, in \u001b[0;36mSpyDecoder.forward\u001b[0;34m(self, encoded_images)\u001b[0m\n\u001b[1;32m     21\u001b[0m \u001b[38;5;28;01mdef\u001b[39;00m \u001b[38;5;21mforward\u001b[39m(\u001b[38;5;28mself\u001b[39m, encoded_images):\n\u001b[1;32m     22\u001b[0m     \u001b[38;5;66;03m# Ensure the input is a 4D tensor (B, C, H, W)\u001b[39;00m\n\u001b[1;32m     23\u001b[0m     \u001b[38;5;28;01mif\u001b[39;00m \u001b[38;5;28mlen\u001b[39m(encoded_images\u001b[38;5;241m.\u001b[39mshape) \u001b[38;5;241m!=\u001b[39m \u001b[38;5;241m4\u001b[39m:\n\u001b[0;32m---> 24\u001b[0m         \u001b[38;5;28;01mraise\u001b[39;00m \u001b[38;5;167;01mValueError\u001b[39;00m(\u001b[38;5;124mf\u001b[39m\u001b[38;5;124m\"\u001b[39m\u001b[38;5;124mExpected 4D tensor (B, C, H, W), but got \u001b[39m\u001b[38;5;132;01m{\u001b[39;00mencoded_images\u001b[38;5;241m.\u001b[39mshape\u001b[38;5;132;01m}\u001b[39;00m\u001b[38;5;124m\"\u001b[39m)\n\u001b[1;32m     26\u001b[0m     \u001b[38;5;66;03m# Process each image in the batch\u001b[39;00m\n\u001b[1;32m     27\u001b[0m     heart_images \u001b[38;5;241m=\u001b[39m []\n",
      "\u001b[0;31mValueError\u001b[0m: Expected 4D tensor (B, C, H, W), but got torch.Size([3, 32, 32])"
     ]
    }
   ],
   "source": [
    "# Test with a single CIFAR-10 image\n",
    "base_image, _ = spy_dataset[0]  # Use first CIFAR-10 image\n",
    "base_image = base_image.unsqueeze(0)  # Add batch dimension\n",
    "\n",
    "# Use the trained encoder to encode the image (optional if pre-encoded)\n",
    "with torch.no_grad():\n",
    "    encoded_image = encoder(base_image, base_image)  # Use the same image as base and secret for testing\n",
    "\n",
    "# Use the updated decoder to generate the heart image\n",
    "decoder = SpyDecoder()\n",
    "with torch.no_grad():\n",
    "    heart_image = decoder(encoded_image[0])  # Pass encoded image to decoder\n",
    "\n",
    "# Visualize the results\n",
    "\n",
    "\n",
    "plt.figure(figsize=(8, 4))\n",
    "plt.subplot(1, 2, 1)\n",
    "plt.imshow(base_image.squeeze().permute(1, 2, 0).numpy())\n",
    "plt.title(\"Base Image\")\n",
    "plt.axis(\"off\")\n",
    "\n",
    "plt.subplot(1, 2, 2)\n",
    "plt.imshow(heart_image.permute(1, 2, 0).numpy())\n",
    "plt.title(\"Heart Image\")\n",
    "plt.axis(\"off\")\n",
    "plt.show()\n"
   ]
  }
 ],
 "metadata": {
  "kernelspec": {
   "display_name": "Python 3",
   "language": "python",
   "name": "python3"
  },
  "language_info": {
   "codemirror_mode": {
    "name": "ipython",
    "version": 3
   },
   "file_extension": ".py",
   "mimetype": "text/x-python",
   "name": "python",
   "nbconvert_exporter": "python",
   "pygments_lexer": "ipython3",
   "version": "3.10.15"
  }
 },
 "nbformat": 4,
 "nbformat_minor": 2
}
